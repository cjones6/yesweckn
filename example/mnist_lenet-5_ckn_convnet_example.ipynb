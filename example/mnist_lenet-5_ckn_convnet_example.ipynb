{
 "cells": [
  {
   "cell_type": "markdown",
   "id": "0f0f057d",
   "metadata": {},
   "source": [
    "# <center> Training a LeNet-5 CKN and ConvNet on MNIST </center>\n",
    "In this notebook we'll set up and train a LeNet-5 convolutional kernel network (CKN) and compare the results to a LeNet-5 ConvNet on the dataset MNIST. Recall that a CKN is a kernelized version of a ConvNet."
   ]
  },
  {
   "cell_type": "markdown",
   "id": "88bef511",
   "metadata": {},
   "source": [
    "## 1 Setting up the data\n",
    "There are five main items we need to set up: the data, model, training parameters, and results and optimizer objects. First we'll set up the data. For this we need to first load the default parameters and the MNIST data loader code:"
   ]
  },
  {
   "cell_type": "code",
   "execution_count": 2,
   "id": "2fef8064",
   "metadata": {},
   "outputs": [],
   "source": [
    "import sys\n",
    "sys.path.append('..')\n",
    "sys.path.append('../..')\n",
    "\n",
    "from src import default_params as defaults\n",
    "import src.data_loaders.mnist as mnist"
   ]
  },
  {
   "cell_type": "markdown",
   "id": "538ad0fe",
   "metadata": {},
   "source": [
    "There are several parameters we need to set:\n",
    "- batch_size: The batch size to use for training.\n",
    "- data_path: The directory where the data resides or will reside. For MNIST and CIFAR-10 if the data doesn't already exist there it will be automatically downloaded and saved there.\n",
    "- num_workers: The number of threads to use when loading the data."
   ]
  },
  {
   "cell_type": "code",
   "execution_count": 3,
   "id": "45e7705a",
   "metadata": {},
   "outputs": [],
   "source": [
    "batch_size = 4096\n",
    "data_path = '../data/mnist'\n",
    "seed = 1\n",
    "num_workers = 4"
   ]
  },
  {
   "cell_type": "markdown",
   "id": "f496adbd",
   "metadata": {},
   "source": [
    "Below we'll set the seeds and the default device. If you don't have a GPU you can change the default device to 'cpu', but the code will take a long time to run."
   ]
  },
  {
   "cell_type": "code",
   "execution_count": 4,
   "id": "bf157c01",
   "metadata": {},
   "outputs": [],
   "source": [
    "import numpy as np\n",
    "import random\n",
    "import torch\n",
    "torch.set_default_tensor_type(torch.FloatTensor)\n",
    "np.random.seed(seed)\n",
    "random.seed(seed)\n",
    "torch.manual_seed(seed)\n",
    "torch.cuda.manual_seed(seed)\n",
    "defaults.device = torch.device('cuda:0')"
   ]
  },
  {
   "cell_type": "code",
   "execution_count": 5,
   "id": "cfb802a3",
   "metadata": {},
   "outputs": [],
   "source": [
    "# Create the data loaders\n",
    "train_loader, valid_loader, test_loader = mnist.get_dataloaders(batch_size=batch_size, \n",
    "                                                                data_path=data_path,\n",
    "                                                                num_workers=num_workers)"
   ]
  },
  {
   "cell_type": "markdown",
   "id": "e52d300c",
   "metadata": {},
   "source": [
    "We have three different data loaders: one for each of the training, validation, and test sets. Now we will create a Data object that contains the relevant data loaders."
   ]
  },
  {
   "cell_type": "code",
   "execution_count": 6,
   "id": "54712c1b",
   "metadata": {},
   "outputs": [],
   "source": [
    "from src.opt import opt_structures\n",
    "data = opt_structures.Data(train_loader, valid_loader, test_loader)"
   ]
  },
  {
   "cell_type": "markdown",
   "id": "7e55a844",
   "metadata": {},
   "source": [
    "## 2 Setting up the CKN model\n",
    "Next we'll set up the model. The model is specified in a config file. This file is loaded and parsed, and then the model is initialized."
   ]
  },
  {
   "cell_type": "code",
   "execution_count": 7,
   "id": "afcdb8aa",
   "metadata": {},
   "outputs": [
    {
     "name": "stderr",
     "output_type": "stream",
     "text": [
      "Loading faiss with AVX2 support.\n"
     ]
    }
   ],
   "source": [
    "from src.model.ckn import net, parse_config"
   ]
  },
  {
   "cell_type": "markdown",
   "id": "aa80e545",
   "metadata": {},
   "source": [
    "There are two parameters we will change from the version of the network specified in the config file:\n",
    "1. The number of filters at each layer\n",
    "2. The bandwidths of the kernels\n",
    "\n",
    "We'll use a relatively small model, so we'll set the number of filters per layer to 32."
   ]
  },
  {
   "cell_type": "code",
   "execution_count": 8,
   "id": "26e400d4",
   "metadata": {},
   "outputs": [],
   "source": [
    "num_filters = 32\n",
    "bandwidth = 0.6"
   ]
  },
  {
   "cell_type": "code",
   "execution_count": 9,
   "id": "815d0e33",
   "metadata": {},
   "outputs": [
    {
     "name": "stdout",
     "output_type": "stream",
     "text": [
      "Initializing layer 0\n",
      "Initializing layer 1\n",
      "Initializing layer 2\n",
      "Initializing layer 3\n",
      "Initializing layer 4\n",
      "Initializing layer 5\n",
      "Done with initialization\n"
     ]
    }
   ],
   "source": [
    "# Load the parameters of the network\n",
    "params = parse_config.load_config('../cfg/lenet-5_ckn.cfg')\n",
    "\n",
    "# Change the number of filters per layer and the bandwidths of the kernels\n",
    "nlayers = len(params['num_filters'])\n",
    "params['num_filters'] = [num_filters] * nlayers\n",
    "params['patch_sigma'] = [bandwidth] * nlayers\n",
    "\n",
    "# Create the network\n",
    "layers = parse_config.create_layers(params)\n",
    "model = net.CKN(layers).to(defaults.device)\n",
    "\n",
    "# # Initialize the network\n",
    "model.init(train_loader)\n",
    "print('Done with initialization')"
   ]
  },
  {
   "cell_type": "markdown",
   "id": "287596e1",
   "metadata": {},
   "source": [
    "The network has now been initialized. We just need to create an object of the `Model` class. We'll save the model after training to the file `../output/temp_model.pickle`."
   ]
  },
  {
   "cell_type": "code",
   "execution_count": 10,
   "id": "73856ffc",
   "metadata": {},
   "outputs": [],
   "source": [
    "import os\n",
    "\n",
    "save_file = os.path.join('..', 'output', 'temp_ckn')\n",
    "model = opt_structures.Model(model, save_path=save_file + '_model.pickle')"
   ]
  },
  {
   "cell_type": "markdown",
   "id": "61af3c54",
   "metadata": {},
   "source": [
    "## 3 Setting up the parameters\n",
    "Finally, we'll set up the training parameters.  In our paper we propose optimizing CKNs via an algorithm we term the \"ultimate layer reversal\" (ULR) method. Consider input image-label pairs $(F_{0}^{(1)},y^{(1)}),\\dots, (F_{0}^{(n)},y^{(n)})$. Let $\\Psi_L(\\cdot; F_{0}^{(i)})$ denote the CKN as a function of the filters $W = (W_1, \\dots, W_L)$ at each layer given the input image $F_{0}^{(i)}$. The filters are constrained to lie on $\\mathcal{C}$, a product of spheres. We consider the following penalized classification problem using loss $\\mathcal{L}$:\n",
    "\n",
    "$$\n",
    "\t\t\\min_{V; W \\in \\mathcal{C}}\\quad f(V,W) \\equiv \\frac{1}{n} \\sum_{i=1}^n \\mathcal{L}\\left(y^{(i)}, \\left\\langle V, \\Psi_L(W; F_{0}^{(i)})\\right\\rangle\\right)+\\lambda \\Vert V\\Vert_F^2.$$\n",
    "\n",
    "The matrix $V$ parameterizes the loss function. The problem can be simplified as\n",
    "\n",
    "$$\n",
    "\t\\min_{V; W \\in \\mathcal{C}} f(V,W) = \\min_{W \\in \\mathcal{C}}  \\hat f(W) \\qquad  \\mbox{where} \\qquad \\hat f(W) \\triangleq \\min_V f(V,W).$$\n",
    "\t\n",
    "If a given $W^*$ is $\\epsilon$-near stationary for the simplified objective $\\hat f$, then the pair $(V^*(W), W^*)$ where $V^*(W) = \\arg\\min_V f(V, W)$, is $\\epsilon$-near stationary for the original objective $f$. Using this fact, we optimize $f$ via stochastic gradient optimization. \n",
    "\n",
    "At each iteration $t$ we approximate the partial objective $g_{B_t}(\\cdot;W):V \\rightarrow f_{B_t}(V, W)$ on a mini-batch $B_t$ by a regularized quadratic approximation and perform a projected gradient step on the inner layers. Formally, at iteration $t$, it consists of the following steps:\n",
    "\n",
    "1. Approximate the classifier around current point $V^{(t)}$:\n",
    "\n",
    "$$\n",
    "\t\t g_{B_t}(V;  W)  \\approx q_{g_{B_t}}^{(t)}(V; W) + \\frac{\\tau}{2} \\|V-V^{(t)}\\|_F^2\n",
    "         $$\n",
    "         \n",
    "2. Minimize the approximation \n",
    "\n",
    "$$\n",
    "\t\t\\hat f_{B_t}(W) = \\min_V q_{g_{B_t}}^{(t)}(V; W) + \\frac{\\tau}{2} \\|V-V^{(t)}\\|_F^2$$\n",
    "\n",
    "3. Make a projected gradient step. Letting $P_{\\mathcal{C}_\\ell}$ denote the projection onto the constraint set of layer $\\ell$ and $\\eta_t$ denote the step size at iteration $t$, set\n",
    "\n",
    "$$\n",
    "\t\t W_\\ell^{(t+1)}  = P_{\\mathcal{C}_\\ell}\\left(W_\\ell^{(t)} - \\eta_{t} P_{\\mathcal{C}_\\ell}\\left(\\nabla_{W_\\ell} \\hat f_{B_t}(W^{(t)})\\right) \\right)$$\n",
    "\n",
    "\n",
    "4. Update the parameters of the classifier\n",
    "\n",
    "$$\n",
    "\t\tV^{(t+1)}  = \\underset{V}{\\text{argmin}} \\,q_{g_{B_t}}^{(t)}(V; W^{(t+1)}) + \\frac{\\tau}{2} \\|V-V^{(t)}\\|_F^2$$\n",
    "\n",
    "\n",
    "There are a large number of parameters that we can specify. These include the following:"
   ]
  },
  {
   "cell_type": "code",
   "execution_count": 11,
   "id": "b165c14b",
   "metadata": {},
   "outputs": [],
   "source": [
    "num_classes = 10               # Number of classes in the dataset\n",
    "ckn = True                     # Indicates that we're using a CKN\n",
    "train_w_layers = [0, 2, 4, 5]  # Layers of the network whose parameters should be trained\n",
    "lambda_filters = 0             # L2 penalty on the filters at each layer except the last one\n",
    "normalize = True               # Whether to normalize the features after they are output by the network\n",
    "opt_method = 'ulr-sgo'         # Method used to train the network. Either 'ulr-sgo' or 'sgo'.\n",
    "loss = 'cross-entropy'         # Loss function to use. Either 'cross-entropy' or 'square'\n",
    "update_step_size_method = 'fixed'  # A fixed step size will be used when training the network\n",
    "step_size = 2**-7              # Step size for the training\n",
    "tau = 2**-7                    # Regularization parameter tau from above\n",
    "num_iters = 1000               # Number of iterations for which it will run\n",
    "save_path = save_file + '_params.pickle' # File where the parameters will be saved\n",
    "save_every = 100               # How often to save the model, parameters, and results (after how many iterations)\n",
    "eval_test_every = 10           # We'll evaluate the results every 10 iterations"
   ]
  },
  {
   "cell_type": "code",
   "execution_count": 12,
   "id": "7953381f",
   "metadata": {},
   "outputs": [],
   "source": [
    "params = opt_structures.Params(num_classes=num_classes, ckn=ckn, train_w_layers=train_w_layers, \n",
    "                               lambda_filters=lambda_filters, normalize=normalize, opt_method=opt_method, \n",
    "                               loss=loss, update_step_size_method=update_step_size_method, \n",
    "                               step_size_init=step_size, tau=tau, num_iters=num_iters, \n",
    "                               save_path=save_file + '_params.pickle',\n",
    "                               eval_test_every=eval_test_every, save_every=save_every\n",
    "                               )"
   ]
  },
  {
   "cell_type": "markdown",
   "id": "46f7f4f8",
   "metadata": {},
   "source": [
    "## 4 Setting up the results and training objects\n",
    "The last things we need to set up are the object that will store the results and the optimizer object."
   ]
  },
  {
   "cell_type": "code",
   "execution_count": 13,
   "id": "3cfac0ad",
   "metadata": {},
   "outputs": [],
   "source": [
    "from src.opt import train_network\n",
    "\n",
    "save_path = save_file + '_results.pickle'\n",
    "results = opt_structures.Results(save_path=save_path)\n",
    "\n",
    "optimizer = train_network.TrainSupervised(data, model, params, results)"
   ]
  },
  {
   "cell_type": "markdown",
   "id": "5e3cd37f",
   "metadata": {},
   "source": [
    "## 5 Training the CKN\n",
    "Now we're ready to train the CKN!"
   ]
  },
  {
   "cell_type": "code",
   "execution_count": 14,
   "id": "bd2577ba",
   "metadata": {},
   "outputs": [
    {
     "name": "stdout",
     "output_type": "stream",
     "text": [
      "Iteration \t Train accuracy \t Valid accuracy \t Test accuracy \t Train loss \t Valid loss \t Test loss\n",
      "0 \t\t 0.9314 \t\t 0.9294 \t\t 0.9362 \t 0.2305 \t 0.2305 \t 0.2206\n",
      "10 \t\t 0.9595 \t\t 0.9566 \t\t 0.9601 \t 0.1396 \t 0.1393 \t 0.1352\n",
      "20 \t\t 0.9703 \t\t 0.9683 \t\t 0.9693 \t 0.1014 \t 0.1005 \t 0.0994\n",
      "30 \t\t 0.9765 \t\t 0.9743 \t\t 0.9762 \t 0.0811 \t 0.0804 \t 0.0809\n",
      "40 \t\t 0.9801 \t\t 0.9772 \t\t 0.9793 \t 0.0682 \t 0.0693 \t 0.0693\n",
      "50 \t\t 0.9828 \t\t 0.9804 \t\t 0.9801 \t 0.0593 \t 0.0616 \t 0.0632\n",
      "60 \t\t 0.9847 \t\t 0.9816 \t\t 0.9811 \t 0.0527 \t 0.0557 \t 0.0571\n",
      "70 \t\t 0.9859 \t\t 0.9838 \t\t 0.9823 \t 0.0476 \t 0.0512 \t 0.0522\n",
      "80 \t\t 0.9871 \t\t 0.9848 \t\t 0.9834 \t 0.0434 \t 0.0486 \t 0.0488\n",
      "90 \t\t 0.9882 \t\t 0.9853 \t\t 0.9855 \t 0.0399 \t 0.0461 \t 0.0458\n",
      "100 \t\t 0.9888 \t\t 0.9860 \t\t 0.9857 \t 0.0371 \t 0.0449 \t 0.0439\n",
      "110 \t\t 0.9894 \t\t 0.9871 \t\t 0.9870 \t 0.0347 \t 0.0427 \t 0.0412\n",
      "120 \t\t 0.9901 \t\t 0.9872 \t\t 0.9878 \t 0.0329 \t 0.0419 \t 0.0398\n",
      "130 \t\t 0.9904 \t\t 0.9876 \t\t 0.9877 \t 0.0312 \t 0.0412 \t 0.0391\n",
      "140 \t\t 0.9908 \t\t 0.9885 \t\t 0.9883 \t 0.0294 \t 0.0406 \t 0.0371\n",
      "150 \t\t 0.9911 \t\t 0.9883 \t\t 0.9886 \t 0.0283 \t 0.0400 \t 0.0361\n",
      "160 \t\t 0.9915 \t\t 0.9887 \t\t 0.9894 \t 0.0270 \t 0.0398 \t 0.0349\n"
     ]
    },
    {
     "name": "stderr",
     "output_type": "stream",
     "text": [
      "OMP: Warning #190: Forking a process while a parallel region is active is potentially unsafe.\n"
     ]
    },
    {
     "name": "stdout",
     "output_type": "stream",
     "text": [
      "170 \t\t 0.9918 \t\t 0.9889 \t\t 0.9898 \t 0.0262 \t 0.0395 \t 0.0343\n",
      "180 \t\t 0.9922 \t\t 0.9890 \t\t 0.9897 \t 0.0247 \t 0.0390 \t 0.0333\n",
      "190 \t\t 0.9926 \t\t 0.9886 \t\t 0.9897 \t 0.0238 \t 0.0379 \t 0.0328\n",
      "200 \t\t 0.9931 \t\t 0.9890 \t\t 0.9908 \t 0.0228 \t 0.0376 \t 0.0319\n",
      "210 \t\t 0.9934 \t\t 0.9896 \t\t 0.9907 \t 0.0221 \t 0.0380 \t 0.0311\n",
      "220 \t\t 0.9936 \t\t 0.9894 \t\t 0.9905 \t 0.0212 \t 0.0379 \t 0.0315\n",
      "230 \t\t 0.9938 \t\t 0.9896 \t\t 0.9907 \t 0.0207 \t 0.0375 \t 0.0311\n",
      "240 \t\t 0.9941 \t\t 0.9896 \t\t 0.9906 \t 0.0201 \t 0.0377 \t 0.0317\n",
      "250 \t\t 0.9942 \t\t 0.9901 \t\t 0.9911 \t 0.0193 \t 0.0373 \t 0.0308\n",
      "260 \t\t 0.9946 \t\t 0.9899 \t\t 0.9908 \t 0.0186 \t 0.0383 \t 0.0303\n",
      "270 \t\t 0.9946 \t\t 0.9905 \t\t 0.9911 \t 0.0181 \t 0.0377 \t 0.0297\n",
      "280 \t\t 0.9949 \t\t 0.9904 \t\t 0.9912 \t 0.0176 \t 0.0376 \t 0.0292\n",
      "290 \t\t 0.9949 \t\t 0.9900 \t\t 0.9911 \t 0.0170 \t 0.0375 \t 0.0298\n",
      "300 \t\t 0.9950 \t\t 0.9902 \t\t 0.9914 \t 0.0167 \t 0.0372 \t 0.0291\n",
      "310 \t\t 0.9952 \t\t 0.9902 \t\t 0.9912 \t 0.0160 \t 0.0374 \t 0.0294\n",
      "320 \t\t 0.9953 \t\t 0.9899 \t\t 0.9914 \t 0.0155 \t 0.0374 \t 0.0294\n",
      "330 \t\t 0.9953 \t\t 0.9897 \t\t 0.9915 \t 0.0152 \t 0.0383 \t 0.0296\n",
      "340 \t\t 0.9954 \t\t 0.9898 \t\t 0.9913 \t 0.0148 \t 0.0382 \t 0.0296\n",
      "350 \t\t 0.9958 \t\t 0.9898 \t\t 0.9916 \t 0.0144 \t 0.0379 \t 0.0295\n",
      "360 \t\t 0.9957 \t\t 0.9902 \t\t 0.9916 \t 0.0141 \t 0.0381 \t 0.0279\n",
      "370 \t\t 0.9959 \t\t 0.9898 \t\t 0.9910 \t 0.0137 \t 0.0389 \t 0.0288\n",
      "380 \t\t 0.9960 \t\t 0.9903 \t\t 0.9918 \t 0.0133 \t 0.0382 \t 0.0294\n",
      "390 \t\t 0.9961 \t\t 0.9901 \t\t 0.9915 \t 0.0129 \t 0.0379 \t 0.0282\n",
      "400 \t\t 0.9964 \t\t 0.9903 \t\t 0.9919 \t 0.0123 \t 0.0380 \t 0.0275\n",
      "410 \t\t 0.9963 \t\t 0.9904 \t\t 0.9918 \t 0.0122 \t 0.0385 \t 0.0282\n",
      "420 \t\t 0.9962 \t\t 0.9906 \t\t 0.9920 \t 0.0120 \t 0.0383 \t 0.0274\n",
      "430 \t\t 0.9968 \t\t 0.9906 \t\t 0.9917 \t 0.0115 \t 0.0385 \t 0.0292\n",
      "440 \t\t 0.9967 \t\t 0.9906 \t\t 0.9916 \t 0.0113 \t 0.0388 \t 0.0301\n",
      "450 \t\t 0.9967 \t\t 0.9909 \t\t 0.9918 \t 0.0111 \t 0.0395 \t 0.0293\n",
      "460 \t\t 0.9969 \t\t 0.9903 \t\t 0.9920 \t 0.0109 \t 0.0395 \t 0.0290\n",
      "470 \t\t 0.9970 \t\t 0.9909 \t\t 0.9910 \t 0.0107 \t 0.0396 \t 0.0301\n",
      "480 \t\t 0.9971 \t\t 0.9910 \t\t 0.9915 \t 0.0104 \t 0.0394 \t 0.0298\n",
      "490 \t\t 0.9971 \t\t 0.9914 \t\t 0.9915 \t 0.0101 \t 0.0394 \t 0.0302\n",
      "500 \t\t 0.9972 \t\t 0.9911 \t\t 0.9912 \t 0.0102 \t 0.0392 \t 0.0306\n",
      "510 \t\t 0.9974 \t\t 0.9909 \t\t 0.9919 \t 0.0098 \t 0.0400 \t 0.0288\n",
      "520 \t\t 0.9974 \t\t 0.9912 \t\t 0.9917 \t 0.0094 \t 0.0399 \t 0.0305\n",
      "530 \t\t 0.9975 \t\t 0.9910 \t\t 0.9917 \t 0.0093 \t 0.0405 \t 0.0298\n",
      "540 \t\t 0.9976 \t\t 0.9912 \t\t 0.9918 \t 0.0091 \t 0.0403 \t 0.0308\n",
      "550 \t\t 0.9976 \t\t 0.9910 \t\t 0.9913 \t 0.0090 \t 0.0402 \t 0.0305\n",
      "560 \t\t 0.9977 \t\t 0.9908 \t\t 0.9913 \t 0.0089 \t 0.0414 \t 0.0299\n",
      "570 \t\t 0.9978 \t\t 0.9911 \t\t 0.9911 \t 0.0087 \t 0.0407 \t 0.0309\n",
      "580 \t\t 0.9980 \t\t 0.9908 \t\t 0.9915 \t 0.0084 \t 0.0412 \t 0.0312\n",
      "590 \t\t 0.9980 \t\t 0.9914 \t\t 0.9916 \t 0.0082 \t 0.0402 \t 0.0312\n",
      "600 \t\t 0.9981 \t\t 0.9913 \t\t 0.9917 \t 0.0080 \t 0.0417 \t 0.0305\n",
      "610 \t\t 0.9982 \t\t 0.9910 \t\t 0.9918 \t 0.0076 \t 0.0407 \t 0.0306\n",
      "620 \t\t 0.9983 \t\t 0.9909 \t\t 0.9913 \t 0.0077 \t 0.0407 \t 0.0316\n",
      "630 \t\t 0.9981 \t\t 0.9913 \t\t 0.9918 \t 0.0075 \t 0.0402 \t 0.0302\n",
      "640 \t\t 0.9983 \t\t 0.9912 \t\t 0.9920 \t 0.0074 \t 0.0413 \t 0.0294\n",
      "650 \t\t 0.9984 \t\t 0.9908 \t\t 0.9917 \t 0.0072 \t 0.0416 \t 0.0296\n",
      "660 \t\t 0.9982 \t\t 0.9910 \t\t 0.9920 \t 0.0070 \t 0.0414 \t 0.0296\n",
      "670 \t\t 0.9984 \t\t 0.9907 \t\t 0.9915 \t 0.0070 \t 0.0426 \t 0.0306\n",
      "680 \t\t 0.9983 \t\t 0.9908 \t\t 0.9914 \t 0.0069 \t 0.0420 \t 0.0309\n",
      "690 \t\t 0.9985 \t\t 0.9909 \t\t 0.9914 \t 0.0069 \t 0.0416 \t 0.0307\n",
      "700 \t\t 0.9986 \t\t 0.9915 \t\t 0.9917 \t 0.0066 \t 0.0416 \t 0.0297\n",
      "710 \t\t 0.9986 \t\t 0.9909 \t\t 0.9913 \t 0.0065 \t 0.0427 \t 0.0318\n",
      "720 \t\t 0.9985 \t\t 0.9911 \t\t 0.9918 \t 0.0065 \t 0.0422 \t 0.0302\n",
      "730 \t\t 0.9984 \t\t 0.9911 \t\t 0.9916 \t 0.0064 \t 0.0425 \t 0.0306\n",
      "740 \t\t 0.9986 \t\t 0.9908 \t\t 0.9913 \t 0.0061 \t 0.0423 \t 0.0310\n",
      "750 \t\t 0.9986 \t\t 0.9909 \t\t 0.9916 \t 0.0062 \t 0.0430 \t 0.0323\n",
      "760 \t\t 0.9986 \t\t 0.9912 \t\t 0.9915 \t 0.0060 \t 0.0429 \t 0.0318\n",
      "770 \t\t 0.9986 \t\t 0.9908 \t\t 0.9920 \t 0.0060 \t 0.0434 \t 0.0314\n",
      "780 \t\t 0.9987 \t\t 0.9909 \t\t 0.9912 \t 0.0060 \t 0.0455 \t 0.0332\n",
      "790 \t\t 0.9987 \t\t 0.9908 \t\t 0.9918 \t 0.0057 \t 0.0428 \t 0.0316\n",
      "800 \t\t 0.9987 \t\t 0.9908 \t\t 0.9915 \t 0.0059 \t 0.0445 \t 0.0321\n",
      "810 \t\t 0.9988 \t\t 0.9905 \t\t 0.9910 \t 0.0057 \t 0.0447 \t 0.0323\n",
      "820 \t\t 0.9988 \t\t 0.9914 \t\t 0.9911 \t 0.0056 \t 0.0448 \t 0.0320\n",
      "830 \t\t 0.9988 \t\t 0.9915 \t\t 0.9914 \t 0.0054 \t 0.0434 \t 0.0327\n",
      "840 \t\t 0.9987 \t\t 0.9905 \t\t 0.9915 \t 0.0055 \t 0.0449 \t 0.0331\n",
      "850 \t\t 0.9988 \t\t 0.9909 \t\t 0.9907 \t 0.0054 \t 0.0446 \t 0.0338\n",
      "860 \t\t 0.9990 \t\t 0.9906 \t\t 0.9910 \t 0.0053 \t 0.0453 \t 0.0337\n",
      "870 \t\t 0.9989 \t\t 0.9910 \t\t 0.9911 \t 0.0051 \t 0.0453 \t 0.0332\n",
      "880 \t\t 0.9990 \t\t 0.9912 \t\t 0.9916 \t 0.0049 \t 0.0445 \t 0.0331\n",
      "890 \t\t 0.9989 \t\t 0.9910 \t\t 0.9906 \t 0.0051 \t 0.0461 \t 0.0343\n",
      "900 \t\t 0.9990 \t\t 0.9908 \t\t 0.9912 \t 0.0047 \t 0.0453 \t 0.0344\n",
      "910 \t\t 0.9990 \t\t 0.9911 \t\t 0.9912 \t 0.0049 \t 0.0460 \t 0.0334\n",
      "920 \t\t 0.9989 \t\t 0.9908 \t\t 0.9916 \t 0.0046 \t 0.0455 \t 0.0323\n",
      "930 \t\t 0.9990 \t\t 0.9909 \t\t 0.9919 \t 0.0047 \t 0.0467 \t 0.0326\n",
      "940 \t\t 0.9991 \t\t 0.9914 \t\t 0.9912 \t 0.0047 \t 0.0447 \t 0.0349\n",
      "950 \t\t 0.9990 \t\t 0.9916 \t\t 0.9911 \t 0.0047 \t 0.0453 \t 0.0344\n",
      "960 \t\t 0.9990 \t\t 0.9912 \t\t 0.9921 \t 0.0045 \t 0.0455 \t 0.0321\n",
      "970 \t\t 0.9991 \t\t 0.9911 \t\t 0.9919 \t 0.0046 \t 0.0441 \t 0.0323\n",
      "980 \t\t 0.9992 \t\t 0.9907 \t\t 0.9913 \t 0.0044 \t 0.0456 \t 0.0342\n",
      "990 \t\t 0.9990 \t\t 0.9911 \t\t 0.9909 \t 0.0044 \t 0.0457 \t 0.0341\n",
      "1000 \t\t 0.9991 \t\t 0.9905 \t\t 0.9918 \t 0.0042 \t 0.0464 \t 0.0341\n",
      "Done learning the features. Saving final results.\n",
      "1000 \t\t 0.9991 \t\t 0.9905 \t\t 0.9918 \t 0.0042 \t 0.0464 \t 0.0341\n"
     ]
    }
   ],
   "source": [
    "optimizer.train()"
   ]
  },
  {
   "cell_type": "markdown",
   "id": "2ae5f72a",
   "metadata": {},
   "source": [
    "## 6 Setting up and training the corresponding ConvNet\n",
    "Now we'll see what we get with the corresponding ConvNet. The steps to set up and run it are similar."
   ]
  },
  {
   "cell_type": "code",
   "execution_count": 15,
   "id": "1f4c3ab6",
   "metadata": {},
   "outputs": [
    {
     "name": "stdout",
     "output_type": "stream",
     "text": [
      "Iteration \t Train accuracy \t Valid accuracy \t Test accuracy \t Train loss \t Valid loss \t Test loss\n",
      "0 \t\t 0.7328 \t\t 0.7280 \t\t 0.7361 \t 0.8255 \t 0.8350 \t 0.7981\n",
      "10 \t\t 0.8389 \t\t 0.8346 \t\t 0.8394 \t 0.5094 \t 0.5255 \t 0.5011\n",
      "20 \t\t 0.8686 \t\t 0.8633 \t\t 0.8702 \t 0.4185 \t 0.4316 \t 0.4106\n",
      "30 \t\t 0.8867 \t\t 0.8830 \t\t 0.8893 \t 0.3640 \t 0.3734 \t 0.3546\n",
      "40 \t\t 0.8984 \t\t 0.8930 \t\t 0.8982 \t 0.3305 \t 0.3389 \t 0.3243\n",
      "50 \t\t 0.9085 \t\t 0.9044 \t\t 0.9093 \t 0.2986 \t 0.3068 \t 0.2929\n",
      "60 \t\t 0.9153 \t\t 0.9147 \t\t 0.9188 \t 0.2764 \t 0.2804 \t 0.2692\n",
      "70 \t\t 0.9224 \t\t 0.9193 \t\t 0.9235 \t 0.2557 \t 0.2624 \t 0.2514\n",
      "80 \t\t 0.9279 \t\t 0.9227 \t\t 0.9290 \t 0.2395 \t 0.2456 \t 0.2368\n",
      "90 \t\t 0.9320 \t\t 0.9271 \t\t 0.9320 \t 0.2254 \t 0.2325 \t 0.2247\n",
      "100 \t\t 0.9354 \t\t 0.9311 \t\t 0.9346 \t 0.2131 \t 0.2208 \t 0.2119\n",
      "110 \t\t 0.9374 \t\t 0.9345 \t\t 0.9371 \t 0.2056 \t 0.2131 \t 0.2056\n",
      "120 \t\t 0.9400 \t\t 0.9366 \t\t 0.9396 \t 0.1989 \t 0.2074 \t 0.1972\n",
      "130 \t\t 0.9421 \t\t 0.9384 \t\t 0.9398 \t 0.1907 \t 0.1998 \t 0.1902\n",
      "140 \t\t 0.9449 \t\t 0.9407 \t\t 0.9446 \t 0.1804 \t 0.1887 \t 0.1820\n",
      "150 \t\t 0.9466 \t\t 0.9435 \t\t 0.9463 \t 0.1749 \t 0.1833 \t 0.1737\n",
      "160 \t\t 0.9480 \t\t 0.9461 \t\t 0.9479 \t 0.1676 \t 0.1771 \t 0.1675\n",
      "170 \t\t 0.9489 \t\t 0.9462 \t\t 0.9491 \t 0.1661 \t 0.1739 \t 0.1670\n",
      "180 \t\t 0.9514 \t\t 0.9485 \t\t 0.9509 \t 0.1577 \t 0.1663 \t 0.1589\n",
      "190 \t\t 0.9525 \t\t 0.9502 \t\t 0.9503 \t 0.1536 \t 0.1627 \t 0.1556\n",
      "200 \t\t 0.9531 \t\t 0.9504 \t\t 0.9518 \t 0.1519 \t 0.1596 \t 0.1552\n",
      "210 \t\t 0.9553 \t\t 0.9518 \t\t 0.9550 \t 0.1460 \t 0.1551 \t 0.1472\n",
      "220 \t\t 0.9559 \t\t 0.9524 \t\t 0.9566 \t 0.1434 \t 0.1524 \t 0.1427\n",
      "230 \t\t 0.9575 \t\t 0.9537 \t\t 0.9567 \t 0.1388 \t 0.1480 \t 0.1411\n",
      "240 \t\t 0.9583 \t\t 0.9552 \t\t 0.9573 \t 0.1360 \t 0.1452 \t 0.1383\n"
     ]
    },
    {
     "name": "stderr",
     "output_type": "stream",
     "text": [
      "OMP: Warning #190: Forking a process while a parallel region is active is potentially unsafe.\n"
     ]
    },
    {
     "name": "stdout",
     "output_type": "stream",
     "text": [
      "250 \t\t 0.9590 \t\t 0.9567 \t\t 0.9571 \t 0.1332 \t 0.1429 \t 0.1372\n",
      "260 \t\t 0.9593 \t\t 0.9563 \t\t 0.9581 \t 0.1313 \t 0.1413 \t 0.1319\n",
      "270 \t\t 0.9605 \t\t 0.9585 \t\t 0.9587 \t 0.1280 \t 0.1396 \t 0.1314\n",
      "280 \t\t 0.9623 \t\t 0.9576 \t\t 0.9617 \t 0.1239 \t 0.1347 \t 0.1231\n",
      "290 \t\t 0.9622 \t\t 0.9592 \t\t 0.9608 \t 0.1226 \t 0.1333 \t 0.1256\n",
      "300 \t\t 0.9612 \t\t 0.9582 \t\t 0.9590 \t 0.1263 \t 0.1372 \t 0.1298\n",
      "310 \t\t 0.9639 \t\t 0.9613 \t\t 0.9633 \t 0.1165 \t 0.1276 \t 0.1182\n",
      "320 \t\t 0.9648 \t\t 0.9611 \t\t 0.9630 \t 0.1146 \t 0.1258 \t 0.1148\n",
      "330 \t\t 0.9655 \t\t 0.9627 \t\t 0.9632 \t 0.1128 \t 0.1232 \t 0.1159\n"
     ]
    },
    {
     "name": "stderr",
     "output_type": "stream",
     "text": [
      "OMP: Warning #190: Forking a process while a parallel region is active is potentially unsafe.\n"
     ]
    },
    {
     "name": "stdout",
     "output_type": "stream",
     "text": [
      "340 \t\t 0.9640 \t\t 0.9608 \t\t 0.9611 \t 0.1172 \t 0.1278 \t 0.1223\n",
      "350 \t\t 0.9663 \t\t 0.9624 \t\t 0.9643 \t 0.1095 \t 0.1224 \t 0.1118\n",
      "360 \t\t 0.9667 \t\t 0.9637 \t\t 0.9656 \t 0.1069 \t 0.1186 \t 0.1086\n",
      "370 \t\t 0.9675 \t\t 0.9645 \t\t 0.9655 \t 0.1056 \t 0.1168 \t 0.1072\n",
      "380 \t\t 0.9682 \t\t 0.9651 \t\t 0.9644 \t 0.1042 \t 0.1154 \t 0.1099\n",
      "390 \t\t 0.9666 \t\t 0.9648 \t\t 0.9648 \t 0.1091 \t 0.1191 \t 0.1068\n",
      "400 \t\t 0.9684 \t\t 0.9645 \t\t 0.9666 \t 0.1021 \t 0.1136 \t 0.1030\n",
      "410 \t\t 0.9689 \t\t 0.9665 \t\t 0.9669 \t 0.0994 \t 0.1108 \t 0.1028\n",
      "420 \t\t 0.9698 \t\t 0.9673 \t\t 0.9683 \t 0.0981 \t 0.1101 \t 0.0996\n"
     ]
    },
    {
     "name": "stderr",
     "output_type": "stream",
     "text": [
      "OMP: Warning #190: Forking a process while a parallel region is active is potentially unsafe.\n"
     ]
    },
    {
     "name": "stdout",
     "output_type": "stream",
     "text": [
      "430 \t\t 0.9696 \t\t 0.9657 \t\t 0.9684 \t 0.0978 \t 0.1099 \t 0.1004\n",
      "440 \t\t 0.9706 \t\t 0.9659 \t\t 0.9684 \t 0.0956 \t 0.1075 \t 0.0996\n",
      "450 \t\t 0.9709 \t\t 0.9677 \t\t 0.9690 \t 0.0940 \t 0.1064 \t 0.0975\n",
      "460 \t\t 0.9716 \t\t 0.9680 \t\t 0.9683 \t 0.0925 \t 0.1052 \t 0.0970\n",
      "470 \t\t 0.9716 \t\t 0.9678 \t\t 0.9700 \t 0.0930 \t 0.1046 \t 0.0958\n",
      "480 \t\t 0.9724 \t\t 0.9684 \t\t 0.9695 \t 0.0904 \t 0.1026 \t 0.0948\n",
      "490 \t\t 0.9728 \t\t 0.9695 \t\t 0.9706 \t 0.0889 \t 0.1014 \t 0.0931\n",
      "500 \t\t 0.9719 \t\t 0.9689 \t\t 0.9698 \t 0.0909 \t 0.1022 \t 0.0921\n",
      "510 \t\t 0.9729 \t\t 0.9689 \t\t 0.9706 \t 0.0878 \t 0.0997 \t 0.0915\n",
      "520 \t\t 0.9732 \t\t 0.9694 \t\t 0.9712 \t 0.0873 \t 0.0991 \t 0.0892\n",
      "530 \t\t 0.9742 \t\t 0.9703 \t\t 0.9721 \t 0.0848 \t 0.0975 \t 0.0885\n",
      "540 \t\t 0.9742 \t\t 0.9705 \t\t 0.9722 \t 0.0844 \t 0.0968 \t 0.0882\n",
      "550 \t\t 0.9742 \t\t 0.9710 \t\t 0.9715 \t 0.0844 \t 0.0975 \t 0.0894\n",
      "560 \t\t 0.9747 \t\t 0.9707 \t\t 0.9723 \t 0.0825 \t 0.0957 \t 0.0890\n",
      "570 \t\t 0.9752 \t\t 0.9710 \t\t 0.9726 \t 0.0814 \t 0.0941 \t 0.0858\n",
      "580 \t\t 0.9756 \t\t 0.9712 \t\t 0.9734 \t 0.0803 \t 0.0933 \t 0.0859\n",
      "590 \t\t 0.9757 \t\t 0.9719 \t\t 0.9727 \t 0.0804 \t 0.0927 \t 0.0850\n",
      "600 \t\t 0.9760 \t\t 0.9723 \t\t 0.9733 \t 0.0791 \t 0.0921 \t 0.0842\n",
      "610 \t\t 0.9764 \t\t 0.9720 \t\t 0.9737 \t 0.0780 \t 0.0910 \t 0.0836\n",
      "620 \t\t 0.9769 \t\t 0.9728 \t\t 0.9740 \t 0.0774 \t 0.0910 \t 0.0835\n",
      "630 \t\t 0.9769 \t\t 0.9732 \t\t 0.9743 \t 0.0766 \t 0.0897 \t 0.0803\n",
      "640 \t\t 0.9769 \t\t 0.9733 \t\t 0.9736 \t 0.0758 \t 0.0888 \t 0.0804\n",
      "650 \t\t 0.9764 \t\t 0.9725 \t\t 0.9742 \t 0.0774 \t 0.0897 \t 0.0814\n",
      "660 \t\t 0.9774 \t\t 0.9730 \t\t 0.9750 \t 0.0744 \t 0.0875 \t 0.0797\n",
      "670 \t\t 0.9778 \t\t 0.9739 \t\t 0.9748 \t 0.0735 \t 0.0864 \t 0.0781\n",
      "680 \t\t 0.9777 \t\t 0.9756 \t\t 0.9747 \t 0.0731 \t 0.0861 \t 0.0782\n",
      "690 \t\t 0.9781 \t\t 0.9754 \t\t 0.9751 \t 0.0723 \t 0.0857 \t 0.0775\n",
      "700 \t\t 0.9785 \t\t 0.9750 \t\t 0.9752 \t 0.0712 \t 0.0845 \t 0.0773\n",
      "710 \t\t 0.9787 \t\t 0.9754 \t\t 0.9749 \t 0.0705 \t 0.0835 \t 0.0757\n",
      "720 \t\t 0.9785 \t\t 0.9757 \t\t 0.9755 \t 0.0708 \t 0.0835 \t 0.0755\n",
      "730 \t\t 0.9793 \t\t 0.9759 \t\t 0.9751 \t 0.0692 \t 0.0822 \t 0.0752\n",
      "740 \t\t 0.9792 \t\t 0.9756 \t\t 0.9754 \t 0.0688 \t 0.0822 \t 0.0745\n",
      "750 \t\t 0.9798 \t\t 0.9769 \t\t 0.9765 \t 0.0681 \t 0.0817 \t 0.0731\n",
      "760 \t\t 0.9800 \t\t 0.9767 \t\t 0.9762 \t 0.0673 \t 0.0808 \t 0.0740\n",
      "770 \t\t 0.9797 \t\t 0.9758 \t\t 0.9762 \t 0.0675 \t 0.0809 \t 0.0732\n",
      "780 \t\t 0.9796 \t\t 0.9763 \t\t 0.9765 \t 0.0673 \t 0.0805 \t 0.0730\n",
      "790 \t\t 0.9802 \t\t 0.9769 \t\t 0.9770 \t 0.0657 \t 0.0791 \t 0.0715\n",
      "800 \t\t 0.9803 \t\t 0.9776 \t\t 0.9768 \t 0.0650 \t 0.0780 \t 0.0706\n",
      "810 \t\t 0.9801 \t\t 0.9771 \t\t 0.9771 \t 0.0653 \t 0.0781 \t 0.0710\n",
      "820 \t\t 0.9802 \t\t 0.9774 \t\t 0.9764 \t 0.0647 \t 0.0789 \t 0.0713\n",
      "830 \t\t 0.9807 \t\t 0.9779 \t\t 0.9778 \t 0.0634 \t 0.0769 \t 0.0693\n",
      "840 \t\t 0.9806 \t\t 0.9775 \t\t 0.9777 \t 0.0641 \t 0.0775 \t 0.0702\n",
      "850 \t\t 0.9811 \t\t 0.9775 \t\t 0.9773 \t 0.0622 \t 0.0764 \t 0.0688\n",
      "860 \t\t 0.9811 \t\t 0.9777 \t\t 0.9772 \t 0.0618 \t 0.0753 \t 0.0687\n",
      "870 \t\t 0.9815 \t\t 0.9783 \t\t 0.9777 \t 0.0610 \t 0.0753 \t 0.0687\n",
      "880 \t\t 0.9815 \t\t 0.9788 \t\t 0.9781 \t 0.0605 \t 0.0744 \t 0.0675\n",
      "890 \t\t 0.9810 \t\t 0.9770 \t\t 0.9783 \t 0.0619 \t 0.0769 \t 0.0704\n",
      "900 \t\t 0.9815 \t\t 0.9787 \t\t 0.9780 \t 0.0597 \t 0.0746 \t 0.0670\n",
      "910 \t\t 0.9815 \t\t 0.9776 \t\t 0.9781 \t 0.0598 \t 0.0737 \t 0.0678\n",
      "920 \t\t 0.9821 \t\t 0.9792 \t\t 0.9789 \t 0.0584 \t 0.0725 \t 0.0658\n",
      "930 \t\t 0.9820 \t\t 0.9794 \t\t 0.9784 \t 0.0582 \t 0.0725 \t 0.0662\n",
      "940 \t\t 0.9822 \t\t 0.9793 \t\t 0.9794 \t 0.0585 \t 0.0726 \t 0.0671\n",
      "950 \t\t 0.9825 \t\t 0.9792 \t\t 0.9789 \t 0.0573 \t 0.0718 \t 0.0657\n",
      "960 \t\t 0.9827 \t\t 0.9800 \t\t 0.9796 \t 0.0567 \t 0.0706 \t 0.0642\n",
      "970 \t\t 0.9828 \t\t 0.9789 \t\t 0.9793 \t 0.0571 \t 0.0719 \t 0.0655\n",
      "980 \t\t 0.9830 \t\t 0.9793 \t\t 0.9800 \t 0.0563 \t 0.0714 \t 0.0644\n",
      "990 \t\t 0.9832 \t\t 0.9799 \t\t 0.9804 \t 0.0554 \t 0.0700 \t 0.0631\n",
      "1000 \t\t 0.9833 \t\t 0.9797 \t\t 0.9804 \t 0.0551 \t 0.0702 \t 0.0635\n",
      "Done learning the features. Saving final results.\n",
      "1000 \t\t 0.9833 \t\t 0.9797 \t\t 0.9804 \t 0.0551 \t 0.0702 \t 0.0635\n"
     ]
    }
   ],
   "source": [
    "from src.model.convnet import lenet\n",
    "\n",
    "# Load and initialize the model\n",
    "model = lenet.LeNet5(nfilters=num_filters, locally_connected_layer=False, bias=True)\n",
    "model.to(defaults.device).apply(lenet.init_normal)\n",
    "\n",
    "# Training parameters that differ from above\n",
    "ckn = False                    # Indicates that we're using a ConvNet\n",
    "train_w_layers = None          # Layers of the network whose parameters should be trained. None => all.\n",
    "lambda_filters = 2**-7         # L2 penalty on the filters at each layer except the last one\n",
    "step_size = 2**-4              # Step size for the training\n",
    "save_file = os.path.join('..', 'output', 'temp_convnet')\n",
    "save_path = save_file + '_params.pickle' # File where the parameters will be saved\n",
    "\n",
    "# Set up the data, parameters, model, optimizer, and results objects\n",
    "data = opt_structures.Data(train_loader, valid_loader, test_loader)\n",
    "params = opt_structures.Params(num_classes=num_classes, ckn=ckn, train_w_layers=train_w_layers,\n",
    "                               lambda_filters=lambda_filters, normalize=normalize, \n",
    "                               update_step_size_method=update_step_size_method, step_size_init=step_size,\n",
    "                               tau=tau, num_iters=num_iters, save_path=save_file + '_params.pickle',\n",
    "                               eval_test_every=eval_test_every, save_every=500)\n",
    "model = opt_structures.Model(model, save_path=save_file + '_model.pickle')\n",
    "results = opt_structures.Results(save_path=save_file + '_results.pickle')\n",
    "optimizer = train_network.TrainSupervised(data, model, params, results)\n",
    "\n",
    "# Train the network\n",
    "optimizer.train()"
   ]
  },
  {
   "cell_type": "markdown",
   "id": "3a5066e3",
   "metadata": {},
   "source": [
    "## 6 Examining the results\n",
    "Now we can load and compare the results from the two networks. As the networks and learning rates are not the same, we would not expect the performance at each iteration to be the same. "
   ]
  },
  {
   "cell_type": "code",
   "execution_count": 16,
   "id": "405b880b",
   "metadata": {},
   "outputs": [
    {
     "data": {
      "image/png": "[encoded data removed]",
      "text/plain": [
       "<Figure size 432x288 with 1 Axes>"
      ]
     },
     "metadata": {
      "needs_background": "light"
     },
     "output_type": "display_data"
    }
   ],
   "source": [
    "%matplotlib inline\n",
    "import matplotlib.pyplot as plt\n",
    "import pickle\n",
    "\n",
    "ckn_results = pickle.load(open('../output/temp_ckn_results.pickle', 'rb'))\n",
    "convnet_results = pickle.load(open('../output/temp_convnet_results.pickle', 'rb'))\n",
    "\n",
    "plt.plot(list(ckn_results['test_accuracy'].keys()), list(ckn_results['test_accuracy'].values()), label='CKN')\n",
    "plt.plot(list(convnet_results['test_accuracy'].keys()), list(convnet_results['test_accuracy'].values()), \n",
    "         label='ConvNet')\n",
    "\n",
    "plt.xlabel('Iteration', fontsize=16)\n",
    "plt.ylabel('Accuracy', fontsize=16)\n",
    "plt.title('Accuracy when training a LeNet-5 \\nCKN and ConvNet on MNIST', fontsize=16)\n",
    "plt.xticks(fontsize=12)\n",
    "plt.yticks(fontsize=12)\n",
    "plt.legend(frameon=False, fontsize=16)\n",
    "plt.show()"
   ]
  },
  {
   "cell_type": "code",
   "execution_count": null,
   "id": "a7e290e1",
   "metadata": {},
   "outputs": [],
   "source": []
  }
 ],
 "metadata": {
  "kernelspec": {
   "display_name": "Python [conda env:python37pytorch1] *",
   "language": "python",
   "name": "conda-env-python37pytorch1-py"
  },
  "language_info": {
   "codemirror_mode": {
    "name": "ipython",
    "version": 3
   },
   "file_extension": ".py",
   "mimetype": "text/x-python",
   "name": "python",
   "nbconvert_exporter": "python",
   "pygments_lexer": "ipython3",
   "version": "3.7.3"
  }
 },
 "nbformat": 4,
 "nbformat_minor": 5
}
